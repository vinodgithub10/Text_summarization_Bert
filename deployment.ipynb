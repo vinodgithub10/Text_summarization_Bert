{
 "cells": [
  {
   "cell_type": "code",
   "execution_count": 1,
   "metadata": {
    "ExecuteTime": {
     "end_time": "2021-08-25T16:37:50.421976Z",
     "start_time": "2021-08-25T16:37:46.412421Z"
    },
    "scrolled": true
   },
   "outputs": [
    {
     "name": "stdout",
     "output_type": "stream",
     "text": [
      "Requirement already satisfied: streamlit in c:\\users\\vsn01\\anaconda\\lib\\site-packages (1.10.0)\n",
      "Requirement already satisfied: click>=7.0 in c:\\users\\vsn01\\anaconda\\lib\\site-packages (from streamlit) (8.0.4)\n",
      "Requirement already satisfied: altair>=3.2.0 in c:\\users\\vsn01\\anaconda\\lib\\site-packages (from streamlit) (4.2.0)\n",
      "Requirement already satisfied: pandas>=0.21.0 in c:\\users\\vsn01\\anaconda\\lib\\site-packages (from streamlit) (1.4.2)\n",
      "Requirement already satisfied: pydeck>=0.1.dev5 in c:\\users\\vsn01\\anaconda\\lib\\site-packages (from streamlit) (0.7.1)\n",
      "Requirement already satisfied: semver in c:\\users\\vsn01\\anaconda\\lib\\site-packages (from streamlit) (2.13.0)\n",
      "Requirement already satisfied: toml in c:\\users\\vsn01\\anaconda\\lib\\site-packages (from streamlit) (0.10.2)\n",
      "Requirement already satisfied: rich in c:\\users\\vsn01\\anaconda\\lib\\site-packages (from streamlit) (12.4.4)\n",
      "Requirement already satisfied: protobuf<4,>=3.12 in c:\\users\\vsn01\\anaconda\\lib\\site-packages (from streamlit) (3.19.1)\n",
      "Requirement already satisfied: requests in c:\\users\\vsn01\\anaconda\\lib\\site-packages (from streamlit) (2.27.1)\n",
      "Requirement already satisfied: gitpython!=3.1.19 in c:\\users\\vsn01\\anaconda\\lib\\site-packages (from streamlit) (3.1.27)\n",
      "Requirement already satisfied: watchdog in c:\\users\\vsn01\\anaconda\\lib\\site-packages (from streamlit) (2.1.6)\n",
      "Requirement already satisfied: attrs in c:\\users\\vsn01\\anaconda\\lib\\site-packages (from streamlit) (21.4.0)\n",
      "Requirement already satisfied: python-dateutil in c:\\users\\vsn01\\anaconda\\lib\\site-packages (from streamlit) (2.8.2)\n",
      "Requirement already satisfied: tzlocal in c:\\users\\vsn01\\anaconda\\lib\\site-packages (from streamlit) (4.2)\n",
      "Requirement already satisfied: pyarrow in c:\\users\\vsn01\\anaconda\\lib\\site-packages (from streamlit) (8.0.0)\n",
      "Requirement already satisfied: numpy in c:\\users\\vsn01\\anaconda\\lib\\site-packages (from streamlit) (1.21.5)\n",
      "Requirement already satisfied: validators in c:\\users\\vsn01\\anaconda\\lib\\site-packages (from streamlit) (0.20.0)\n",
      "Requirement already satisfied: importlib-metadata>=1.4 in c:\\users\\vsn01\\anaconda\\lib\\site-packages (from streamlit) (4.11.3)\n",
      "Requirement already satisfied: pympler>=0.9 in c:\\users\\vsn01\\anaconda\\lib\\site-packages (from streamlit) (1.0.1)\n",
      "Requirement already satisfied: pillow>=6.2.0 in c:\\users\\vsn01\\anaconda\\lib\\site-packages (from streamlit) (9.0.1)\n",
      "Requirement already satisfied: typing-extensions in c:\\users\\vsn01\\anaconda\\lib\\site-packages (from streamlit) (4.1.1)\n",
      "Requirement already satisfied: blinker in c:\\users\\vsn01\\anaconda\\lib\\site-packages (from streamlit) (1.4)\n",
      "Requirement already satisfied: tornado>=5.0 in c:\\users\\vsn01\\anaconda\\lib\\site-packages (from streamlit) (6.1)\n",
      "Requirement already satisfied: cachetools>=4.0 in c:\\users\\vsn01\\anaconda\\lib\\site-packages (from streamlit) (4.2.2)\n",
      "Requirement already satisfied: packaging in c:\\users\\vsn01\\anaconda\\lib\\site-packages (from streamlit) (21.3)\n",
      "Requirement already satisfied: toolz in c:\\users\\vsn01\\anaconda\\lib\\site-packages (from altair>=3.2.0->streamlit) (0.11.2)\n",
      "Requirement already satisfied: entrypoints in c:\\users\\vsn01\\anaconda\\lib\\site-packages (from altair>=3.2.0->streamlit) (0.4)\n",
      "Requirement already satisfied: jinja2 in c:\\users\\vsn01\\anaconda\\lib\\site-packages (from altair>=3.2.0->streamlit) (2.11.3)\n",
      "Requirement already satisfied: jsonschema>=3.0 in c:\\users\\vsn01\\anaconda\\lib\\site-packages (from altair>=3.2.0->streamlit) (4.4.0)\n",
      "Requirement already satisfied: colorama in c:\\users\\vsn01\\anaconda\\lib\\site-packages (from click>=7.0->streamlit) (0.4.4)\n",
      "Requirement already satisfied: gitdb<5,>=4.0.1 in c:\\users\\vsn01\\anaconda\\lib\\site-packages (from gitpython!=3.1.19->streamlit) (4.0.9)\n",
      "Requirement already satisfied: smmap<6,>=3.0.1 in c:\\users\\vsn01\\anaconda\\lib\\site-packages (from gitdb<5,>=4.0.1->gitpython!=3.1.19->streamlit) (5.0.0)\n",
      "Requirement already satisfied: zipp>=0.5 in c:\\users\\vsn01\\anaconda\\lib\\site-packages (from importlib-metadata>=1.4->streamlit) (3.7.0)\n",
      "Requirement already satisfied: pyrsistent!=0.17.0,!=0.17.1,!=0.17.2,>=0.14.0 in c:\\users\\vsn01\\anaconda\\lib\\site-packages (from jsonschema>=3.0->altair>=3.2.0->streamlit) (0.18.0)\n",
      "Requirement already satisfied: pytz>=2020.1 in c:\\users\\vsn01\\anaconda\\lib\\site-packages (from pandas>=0.21.0->streamlit) (2021.3)\n",
      "Requirement already satisfied: ipywidgets>=7.0.0 in c:\\users\\vsn01\\anaconda\\lib\\site-packages (from pydeck>=0.1.dev5->streamlit) (7.6.5)\n",
      "Requirement already satisfied: ipykernel>=5.1.2 in c:\\users\\vsn01\\anaconda\\lib\\site-packages (from pydeck>=0.1.dev5->streamlit) (6.9.1)\n",
      "Requirement already satisfied: traitlets>=4.3.2 in c:\\users\\vsn01\\anaconda\\lib\\site-packages (from pydeck>=0.1.dev5->streamlit) (5.1.1)\n",
      "Requirement already satisfied: jupyter-client<8.0 in c:\\users\\vsn01\\anaconda\\lib\\site-packages (from ipykernel>=5.1.2->pydeck>=0.1.dev5->streamlit) (6.1.12)\n",
      "Requirement already satisfied: nest-asyncio in c:\\users\\vsn01\\anaconda\\lib\\site-packages (from ipykernel>=5.1.2->pydeck>=0.1.dev5->streamlit) (1.5.5)\n",
      "Requirement already satisfied: ipython>=7.23.1 in c:\\users\\vsn01\\anaconda\\lib\\site-packages (from ipykernel>=5.1.2->pydeck>=0.1.dev5->streamlit) (8.2.0)\n",
      "Requirement already satisfied: matplotlib-inline<0.2.0,>=0.1.0 in c:\\users\\vsn01\\anaconda\\lib\\site-packages (from ipykernel>=5.1.2->pydeck>=0.1.dev5->streamlit) (0.1.2)\n",
      "Requirement already satisfied: debugpy<2.0,>=1.0.0 in c:\\users\\vsn01\\anaconda\\lib\\site-packages (from ipykernel>=5.1.2->pydeck>=0.1.dev5->streamlit) (1.5.1)\n",
      "Requirement already satisfied: jedi>=0.16 in c:\\users\\vsn01\\anaconda\\lib\\site-packages (from ipython>=7.23.1->ipykernel>=5.1.2->pydeck>=0.1.dev5->streamlit) (0.18.1)\n",
      "Requirement already satisfied: pygments>=2.4.0 in c:\\users\\vsn01\\anaconda\\lib\\site-packages (from ipython>=7.23.1->ipykernel>=5.1.2->pydeck>=0.1.dev5->streamlit) (2.11.2)\n",
      "Requirement already satisfied: decorator in c:\\users\\vsn01\\anaconda\\lib\\site-packages (from ipython>=7.23.1->ipykernel>=5.1.2->pydeck>=0.1.dev5->streamlit) (5.1.1)\n",
      "Requirement already satisfied: backcall in c:\\users\\vsn01\\anaconda\\lib\\site-packages (from ipython>=7.23.1->ipykernel>=5.1.2->pydeck>=0.1.dev5->streamlit) (0.2.0)\n",
      "Requirement already satisfied: pickleshare in c:\\users\\vsn01\\anaconda\\lib\\site-packages (from ipython>=7.23.1->ipykernel>=5.1.2->pydeck>=0.1.dev5->streamlit) (0.7.5)\n",
      "Requirement already satisfied: prompt-toolkit!=3.0.0,!=3.0.1,<3.1.0,>=2.0.0 in c:\\users\\vsn01\\anaconda\\lib\\site-packages (from ipython>=7.23.1->ipykernel>=5.1.2->pydeck>=0.1.dev5->streamlit) (3.0.20)Note: you may need to restart the kernel to use updated packages.\n",
      "\n",
      "Requirement already satisfied: setuptools>=18.5 in c:\\users\\vsn01\\anaconda\\lib\\site-packages (from ipython>=7.23.1->ipykernel>=5.1.2->pydeck>=0.1.dev5->streamlit) (61.2.0)\n",
      "Requirement already satisfied: stack-data in c:\\users\\vsn01\\anaconda\\lib\\site-packages (from ipython>=7.23.1->ipykernel>=5.1.2->pydeck>=0.1.dev5->streamlit) (0.2.0)\n",
      "Requirement already satisfied: nbformat>=4.2.0 in c:\\users\\vsn01\\anaconda\\lib\\site-packages (from ipywidgets>=7.0.0->pydeck>=0.1.dev5->streamlit) (5.3.0)\n",
      "Requirement already satisfied: widgetsnbextension~=3.5.0 in c:\\users\\vsn01\\anaconda\\lib\\site-packages (from ipywidgets>=7.0.0->pydeck>=0.1.dev5->streamlit) (3.5.2)\n",
      "Requirement already satisfied: jupyterlab-widgets>=1.0.0 in c:\\users\\vsn01\\anaconda\\lib\\site-packages (from ipywidgets>=7.0.0->pydeck>=0.1.dev5->streamlit) (1.0.0)\n",
      "Requirement already satisfied: ipython-genutils~=0.2.0 in c:\\users\\vsn01\\anaconda\\lib\\site-packages (from ipywidgets>=7.0.0->pydeck>=0.1.dev5->streamlit) (0.2.0)\n",
      "Requirement already satisfied: parso<0.9.0,>=0.8.0 in c:\\users\\vsn01\\anaconda\\lib\\site-packages (from jedi>=0.16->ipython>=7.23.1->ipykernel>=5.1.2->pydeck>=0.1.dev5->streamlit) (0.8.3)\n",
      "Requirement already satisfied: MarkupSafe>=0.23 in c:\\users\\vsn01\\anaconda\\lib\\site-packages (from jinja2->altair>=3.2.0->streamlit) (2.0.1)\n",
      "Requirement already satisfied: jupyter-core>=4.6.0 in c:\\users\\vsn01\\anaconda\\lib\\site-packages (from jupyter-client<8.0->ipykernel>=5.1.2->pydeck>=0.1.dev5->streamlit) (4.9.2)\n",
      "Requirement already satisfied: pyzmq>=13 in c:\\users\\vsn01\\anaconda\\lib\\site-packages (from jupyter-client<8.0->ipykernel>=5.1.2->pydeck>=0.1.dev5->streamlit) (22.3.0)\n",
      "Requirement already satisfied: pywin32>=1.0 in c:\\users\\vsn01\\anaconda\\lib\\site-packages (from jupyter-core>=4.6.0->jupyter-client<8.0->ipykernel>=5.1.2->pydeck>=0.1.dev5->streamlit) (302)\n",
      "Requirement already satisfied: fastjsonschema in c:\\users\\vsn01\\anaconda\\lib\\site-packages (from nbformat>=4.2.0->ipywidgets>=7.0.0->pydeck>=0.1.dev5->streamlit) (2.15.1)\n",
      "Requirement already satisfied: wcwidth in c:\\users\\vsn01\\anaconda\\lib\\site-packages (from prompt-toolkit!=3.0.0,!=3.0.1,<3.1.0,>=2.0.0->ipython>=7.23.1->ipykernel>=5.1.2->pydeck>=0.1.dev5->streamlit) (0.2.5)\n",
      "Requirement already satisfied: six>=1.5 in c:\\users\\vsn01\\anaconda\\lib\\site-packages (from python-dateutil->streamlit) (1.16.0)\n",
      "Requirement already satisfied: notebook>=4.4.1 in c:\\users\\vsn01\\anaconda\\lib\\site-packages (from widgetsnbextension~=3.5.0->ipywidgets>=7.0.0->pydeck>=0.1.dev5->streamlit) (6.4.8)\n",
      "Requirement already satisfied: prometheus-client in c:\\users\\vsn01\\anaconda\\lib\\site-packages (from notebook>=4.4.1->widgetsnbextension~=3.5.0->ipywidgets>=7.0.0->pydeck>=0.1.dev5->streamlit) (0.13.1)\n",
      "Requirement already satisfied: terminado>=0.8.3 in c:\\users\\vsn01\\anaconda\\lib\\site-packages (from notebook>=4.4.1->widgetsnbextension~=3.5.0->ipywidgets>=7.0.0->pydeck>=0.1.dev5->streamlit) (0.13.1)\n",
      "Requirement already satisfied: Send2Trash>=1.8.0 in c:\\users\\vsn01\\anaconda\\lib\\site-packages (from notebook>=4.4.1->widgetsnbextension~=3.5.0->ipywidgets>=7.0.0->pydeck>=0.1.dev5->streamlit) (1.8.0)\n",
      "Requirement already satisfied: nbconvert in c:\\users\\vsn01\\anaconda\\lib\\site-packages (from notebook>=4.4.1->widgetsnbextension~=3.5.0->ipywidgets>=7.0.0->pydeck>=0.1.dev5->streamlit) (6.4.4)\n",
      "Requirement already satisfied: argon2-cffi in c:\\users\\vsn01\\anaconda\\lib\\site-packages (from notebook>=4.4.1->widgetsnbextension~=3.5.0->ipywidgets>=7.0.0->pydeck>=0.1.dev5->streamlit) (21.3.0)\n",
      "Requirement already satisfied: pywinpty>=1.1.0 in c:\\users\\vsn01\\anaconda\\lib\\site-packages (from terminado>=0.8.3->notebook>=4.4.1->widgetsnbextension~=3.5.0->ipywidgets>=7.0.0->pydeck>=0.1.dev5->streamlit) (2.0.2)\n",
      "Requirement already satisfied: argon2-cffi-bindings in c:\\users\\vsn01\\anaconda\\lib\\site-packages (from argon2-cffi->notebook>=4.4.1->widgetsnbextension~=3.5.0->ipywidgets>=7.0.0->pydeck>=0.1.dev5->streamlit) (21.2.0)\n",
      "Requirement already satisfied: cffi>=1.0.1 in c:\\users\\vsn01\\anaconda\\lib\\site-packages (from argon2-cffi-bindings->argon2-cffi->notebook>=4.4.1->widgetsnbextension~=3.5.0->ipywidgets>=7.0.0->pydeck>=0.1.dev5->streamlit) (1.15.0)\n",
      "Requirement already satisfied: pycparser in c:\\users\\vsn01\\anaconda\\lib\\site-packages (from cffi>=1.0.1->argon2-cffi-bindings->argon2-cffi->notebook>=4.4.1->widgetsnbextension~=3.5.0->ipywidgets>=7.0.0->pydeck>=0.1.dev5->streamlit) (2.21)\n",
      "Requirement already satisfied: pandocfilters>=1.4.1 in c:\\users\\vsn01\\anaconda\\lib\\site-packages (from nbconvert->notebook>=4.4.1->widgetsnbextension~=3.5.0->ipywidgets>=7.0.0->pydeck>=0.1.dev5->streamlit) (1.5.0)\n",
      "Requirement already satisfied: mistune<2,>=0.8.1 in c:\\users\\vsn01\\anaconda\\lib\\site-packages (from nbconvert->notebook>=4.4.1->widgetsnbextension~=3.5.0->ipywidgets>=7.0.0->pydeck>=0.1.dev5->streamlit) (0.8.4)\n",
      "Requirement already satisfied: beautifulsoup4 in c:\\users\\vsn01\\anaconda\\lib\\site-packages (from nbconvert->notebook>=4.4.1->widgetsnbextension~=3.5.0->ipywidgets>=7.0.0->pydeck>=0.1.dev5->streamlit) (4.11.1)\n",
      "Requirement already satisfied: testpath in c:\\users\\vsn01\\anaconda\\lib\\site-packages (from nbconvert->notebook>=4.4.1->widgetsnbextension~=3.5.0->ipywidgets>=7.0.0->pydeck>=0.1.dev5->streamlit) (0.5.0)\n",
      "Requirement already satisfied: defusedxml in c:\\users\\vsn01\\anaconda\\lib\\site-packages (from nbconvert->notebook>=4.4.1->widgetsnbextension~=3.5.0->ipywidgets>=7.0.0->pydeck>=0.1.dev5->streamlit) (0.7.1)\n",
      "Requirement already satisfied: nbclient<0.6.0,>=0.5.0 in c:\\users\\vsn01\\anaconda\\lib\\site-packages (from nbconvert->notebook>=4.4.1->widgetsnbextension~=3.5.0->ipywidgets>=7.0.0->pydeck>=0.1.dev5->streamlit) (0.5.13)\n",
      "Requirement already satisfied: bleach in c:\\users\\vsn01\\anaconda\\lib\\site-packages (from nbconvert->notebook>=4.4.1->widgetsnbextension~=3.5.0->ipywidgets>=7.0.0->pydeck>=0.1.dev5->streamlit) (4.1.0)\n",
      "Requirement already satisfied: jupyterlab-pygments in c:\\users\\vsn01\\anaconda\\lib\\site-packages (from nbconvert->notebook>=4.4.1->widgetsnbextension~=3.5.0->ipywidgets>=7.0.0->pydeck>=0.1.dev5->streamlit) (0.1.2)\n",
      "Requirement already satisfied: soupsieve>1.2 in c:\\users\\vsn01\\anaconda\\lib\\site-packages (from beautifulsoup4->nbconvert->notebook>=4.4.1->widgetsnbextension~=3.5.0->ipywidgets>=7.0.0->pydeck>=0.1.dev5->streamlit) (2.3.1)\n",
      "Requirement already satisfied: webencodings in c:\\users\\vsn01\\anaconda\\lib\\site-packages (from bleach->nbconvert->notebook>=4.4.1->widgetsnbextension~=3.5.0->ipywidgets>=7.0.0->pydeck>=0.1.dev5->streamlit) (0.5.1)\n",
      "Requirement already satisfied: pyparsing!=3.0.5,>=2.0.2 in c:\\users\\vsn01\\anaconda\\lib\\site-packages (from packaging->streamlit) (3.0.4)\n",
      "Requirement already satisfied: idna<4,>=2.5 in c:\\users\\vsn01\\anaconda\\lib\\site-packages (from requests->streamlit) (3.3)\n",
      "Requirement already satisfied: urllib3<1.27,>=1.21.1 in c:\\users\\vsn01\\anaconda\\lib\\site-packages (from requests->streamlit) (1.26.9)\n",
      "Requirement already satisfied: charset-normalizer~=2.0.0 in c:\\users\\vsn01\\anaconda\\lib\\site-packages (from requests->streamlit) (2.0.4)\n",
      "Requirement already satisfied: certifi>=2017.4.17 in c:\\users\\vsn01\\anaconda\\lib\\site-packages (from requests->streamlit) (2022.5.18.1)\n",
      "Requirement already satisfied: commonmark<0.10.0,>=0.9.0 in c:\\users\\vsn01\\anaconda\\lib\\site-packages (from rich->streamlit) (0.9.1)\n",
      "Requirement already satisfied: asttokens in c:\\users\\vsn01\\anaconda\\lib\\site-packages (from stack-data->ipython>=7.23.1->ipykernel>=5.1.2->pydeck>=0.1.dev5->streamlit) (2.0.5)\n",
      "Requirement already satisfied: executing in c:\\users\\vsn01\\anaconda\\lib\\site-packages (from stack-data->ipython>=7.23.1->ipykernel>=5.1.2->pydeck>=0.1.dev5->streamlit) (0.8.3)\n",
      "Requirement already satisfied: pure-eval in c:\\users\\vsn01\\anaconda\\lib\\site-packages (from stack-data->ipython>=7.23.1->ipykernel>=5.1.2->pydeck>=0.1.dev5->streamlit) (0.2.2)\n",
      "Requirement already satisfied: pytz-deprecation-shim in c:\\users\\vsn01\\anaconda\\lib\\site-packages (from tzlocal->streamlit) (0.1.0.post0)\n",
      "Requirement already satisfied: tzdata in c:\\users\\vsn01\\anaconda\\lib\\site-packages (from tzlocal->streamlit) (2022.1)\n"
     ]
    }
   ],
   "source": [
    "pip install streamlit  "
   ]
  },
  {
   "cell_type": "code",
   "execution_count": null,
   "metadata": {},
   "outputs": [],
   "source": [
    "!streamlit run dep.py"
   ]
  },
  {
   "cell_type": "code",
   "execution_count": null,
   "metadata": {},
   "outputs": [],
   "source": [
    "ls"
   ]
  },
  {
   "cell_type": "code",
   "execution_count": null,
   "metadata": {},
   "outputs": [],
   "source": []
  }
 ],
 "metadata": {
  "kernelspec": {
   "display_name": "Python 3 (ipykernel)",
   "language": "python",
   "name": "python3"
  },
  "language_info": {
   "codemirror_mode": {
    "name": "ipython",
    "version": 3
   },
   "file_extension": ".py",
   "mimetype": "text/x-python",
   "name": "python",
   "nbconvert_exporter": "python",
   "pygments_lexer": "ipython3",
   "version": "3.9.12"
  }
 },
 "nbformat": 4,
 "nbformat_minor": 2
}
